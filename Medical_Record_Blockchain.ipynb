{
 "cells": [
  {
   "cell_type": "code",
   "execution_count": 1,
   "id": "b2f843d9-e45e-4b37-be5e-a1a9eaadf133",
   "metadata": {},
   "outputs": [],
   "source": [
    "# Import necessary libraries\n",
    "import hashlib  # For SHA-256 hashing\n",
    "import datetime  # For timestamps"
   ]
  },
  {
   "cell_type": "code",
   "execution_count": 3,
   "id": "e7520a0c-64ae-400e-b54c-1d38a92eba9a",
   "metadata": {},
   "outputs": [],
   "source": [
    "class Block:\n",
    "    def __init__(self, index, timestamp, data, previous_hash):\n",
    "        self.index = index\n",
    "        self.timestamp = timestamp\n",
    "        self.data = data\n",
    "        self.previous_hash = previous_hash\n",
    "        self.hash = self.calculate_hash()\n",
    "\n",
    "    def calculate_hash(self):\n",
    "        value = str(self.index) + str(self.timestamp) + str(self.data) + str(self.previous_hash)\n",
    "        return hashlib.sha256(value.encode()).hexdigest()\n"
   ]
  },
  {
   "cell_type": "code",
   "execution_count": 5,
   "id": "805fe4d1-98be-41ad-b2f5-01f59fdc73ae",
   "metadata": {},
   "outputs": [],
   "source": [
    "class Blockchain:\n",
    "    def __init__(self):\n",
    "        self.chain = [self.create_genesis_block()]\n",
    "\n",
    "    def create_genesis_block(self):\n",
    "        return Block(0, datetime.datetime.now(), \"Genesis Block\", \"0\")\n",
    "\n",
    "    def get_latest_block(self):\n",
    "        return self.chain[-1]\n",
    "\n",
    "    def add_block(self, new_data):\n",
    "        latest_block = self.get_latest_block()\n",
    "        new_block = Block(len(self.chain), datetime.datetime.now(), new_data, latest_block.hash)\n",
    "        self.chain.append(new_block)\n",
    "\n",
    "    def is_chain_valid(self):\n",
    "        for i in range(1, len(self.chain)):\n",
    "            current = self.chain[i]\n",
    "            previous = self.chain[i-1]\n",
    "            if current.hash != current.calculate_hash():\n",
    "                return False\n",
    "            if current.previous_hash != previous.hash:\n",
    "                return False\n",
    "        return True\n"
   ]
  },
  {
   "cell_type": "code",
   "execution_count": 7,
   "id": "af1149e4-1d8c-453c-8100-09560b29d2be",
   "metadata": {},
   "outputs": [],
   "source": [
    "medical_chain = Blockchain()\n"
   ]
  },
  {
   "cell_type": "code",
   "execution_count": 9,
   "id": "f6e71af4-105b-4921-9055-d9aea415259d",
   "metadata": {},
   "outputs": [],
   "source": [
    "medical_chain.add_block(\"Patient: John Doe, Visit: Routine Checkup, Date: 2025-04-20\")\n",
    "medical_chain.add_block(\"Patient: Alice Smith, Visit: Blood Test, Date: 2025-04-21\")\n",
    "medical_chain.add_block(\"Patient: Bob Johnson, Visit: MRI Scan, Date: 2025-04-22\")\n"
   ]
  },
  {
   "cell_type": "code",
   "execution_count": 11,
   "id": "812d6264-2dea-4c70-a047-76a41d028860",
   "metadata": {},
   "outputs": [
    {
     "name": "stdout",
     "output_type": "stream",
     "text": [
      "Index: 0\n",
      "Timestamp: 2025-04-20 22:02:08.401204\n",
      "Data: Genesis Block\n",
      "Hash: 53c3213e64e012e68d7a07920df51717aa8e736e2cdac2c133dda0f2d48a8498\n",
      "Previous Hash: 0\n",
      "\n",
      "Index: 1\n",
      "Timestamp: 2025-04-20 22:02:14.721281\n",
      "Data: Patient: John Doe, Visit: Routine Checkup, Date: 2025-04-20\n",
      "Hash: 63540c88f2da8fa9c2ca21b150b28b2442e44a9a245dc3e5d83f9a9ed1d9447e\n",
      "Previous Hash: 53c3213e64e012e68d7a07920df51717aa8e736e2cdac2c133dda0f2d48a8498\n",
      "\n",
      "Index: 2\n",
      "Timestamp: 2025-04-20 22:02:14.721281\n",
      "Data: Patient: Alice Smith, Visit: Blood Test, Date: 2025-04-21\n",
      "Hash: f2e7cc50723a4f85dc5880e74c37f3a844947cf8e737703d36c82985cbd51e08\n",
      "Previous Hash: 63540c88f2da8fa9c2ca21b150b28b2442e44a9a245dc3e5d83f9a9ed1d9447e\n",
      "\n",
      "Index: 3\n",
      "Timestamp: 2025-04-20 22:02:14.721281\n",
      "Data: Patient: Bob Johnson, Visit: MRI Scan, Date: 2025-04-22\n",
      "Hash: 96f60f44ad25bb32631d62cbb08df7743926a75b5ec3c84c806cc01c5e2789f4\n",
      "Previous Hash: f2e7cc50723a4f85dc5880e74c37f3a844947cf8e737703d36c82985cbd51e08\n",
      "\n"
     ]
    }
   ],
   "source": [
    "for block in medical_chain.chain:\n",
    "    print(f\"Index: {block.index}\")\n",
    "    print(f\"Timestamp: {block.timestamp}\")\n",
    "    print(f\"Data: {block.data}\")\n",
    "    print(f\"Hash: {block.hash}\")\n",
    "    print(f\"Previous Hash: {block.previous_hash}\\n\")\n"
   ]
  },
  {
   "cell_type": "code",
   "execution_count": null,
   "id": "57629e27-d743-4c17-9d4d-6d013557d81e",
   "metadata": {},
   "outputs": [],
   "source": []
  }
 ],
 "metadata": {
  "kernelspec": {
   "display_name": "Python [conda env:base] *",
   "language": "python",
   "name": "conda-base-py"
  },
  "language_info": {
   "codemirror_mode": {
    "name": "ipython",
    "version": 3
   },
   "file_extension": ".py",
   "mimetype": "text/x-python",
   "name": "python",
   "nbconvert_exporter": "python",
   "pygments_lexer": "ipython3",
   "version": "3.12.7"
  }
 },
 "nbformat": 4,
 "nbformat_minor": 5
}
