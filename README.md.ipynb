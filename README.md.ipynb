{
 "cells": [
  {
   "cell_type": "markdown",
   "id": "b5242c4f-2b06-4073-9520-0d05cbc0e996",
   "metadata": {},
   "source": [
    "\n",
    "# Blockchain Medical Record Tracker\n",
    "\n",
    "This project implements a basic blockchain system to securely record medical patient visits using Python and Jupyter Notebook.  \n",
    "It demonstrates how blockchain technology can enhance healthcare data integrity, transparency, and security.\n",
    "\n",
    "## Project Overview\n",
    "\n",
    "- Each patient visit is stored as a block in a blockchain.\n",
    "- Each block includes:\n",
    "  - **Index** (position in the chain)\n",
    "  - **Timestamp** (date and time of record creation)\n",
    "  - **Patient Visit Data** (e.g., name, visit reason, visit date)\n",
    "  - **Previous Hash** (link to previous block)\n",
    "  - **Current Hash** (SHA-256 of block content)\n",
    "\n",
    "## Technologies Used\n",
    "\n",
    "- Python 3\n",
    "- Jupyter Notebook\n",
    "- `hashlib` library for cryptographic hashing\n",
    "\n",
    "## How to Run\n",
    "\n",
    "1. Clone this repository.\n",
    "2. Open `Medical_Record_Blockchain.ipynb` in Jupyter Notebook.\n",
    "3. Run the cells to simulate adding patient records to the blockchain and validating the chain's integrity.\n",
    "\n",
    "## Files Included\n",
    "\n",
    "- `Blockchain Medical Record Tracker Term Project.docx` — Final project report\n",
    "- `Medical_Record_Blockchain.ipynb` — Main project code\n",
    "- `Readme.ipynb` — Old notebook-style readme\n",
    "\n",
    "## Project Highlights\n",
    "\n",
    "- Demonstrates blockchain structure and chaining of records.\n",
    "- Ensures data immutability and security through SHA-256 hashing.\n",
    "- Simulates real-world medical record management using blockchain principles.\n",
    "\n",
    "## Author\n",
    "\n",
    "Dipina KC  \n",
    "Spring 2025 | CSCI 5858: Blockchain and Cryptocurrency Technologies\n"
   ]
  }
 ],
 "metadata": {
  "kernelspec": {
   "display_name": "Python [conda env:ds]",
   "language": "python",
   "name": "conda-env-ds-py"
  },
  "language_info": {
   "name": ""
  }
 },
 "nbformat": 4,
 "nbformat_minor": 5
}
