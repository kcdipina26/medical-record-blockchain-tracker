{
 "cells": [
  {
   "cell_type": "markdown",
   "id": "b5242c4f-2b06-4073-9520-0d05cbc0e996",
   "metadata": {},
   "source": [
    "# Blockchain Medical Record Tracker\n",
    "\n",
    "This project implements a basic blockchain system for securely recording patient medical visits. Each patient visit is stored as a block in the blockchain, linked using cryptographic hashes to preserve data integrity and transparency. While simple in structure, this project demonstrates key principles of how blockchain technology can enhance healthcare information systems.\n",
    "\n",
    "## Project Motivation\n",
    "In healthcare, maintaining secure, accurate, and tamper-proof medical records is critical. Traditional centralized record-keeping systems are vulnerable to data breaches, unauthorized access, and data loss. Blockchain provides a decentralized, immutable solution where each patient record is securely linked and cryptographically protected. Even in a simplified form, blockchain technology can help improve trust, security, and interoperability between healthcare providers.\n",
    "\n",
    "## Features\n",
    "- Record patient visits as individual blocks.\n",
    "- Secure each block using SHA-256 cryptographic hashing.\n",
    "- Link blocks chronologically with hashes to ensure immutability.\n",
    "- Validate blockchain integrity to detect any tampering attempts.\n",
    "- View patient record history in a transparent and organized way.\n",
    "\n",
    "## Technologies Used\n",
    "- Python 3\n",
    "- Jupyter Notebook\n",
    "- hashlib library (for SHA-256 hashing)\n",
    "- datetime module (for timestamps)\n",
    "\n",
    "## How to Run the Project\n",
    "1. Open the Jupyter Notebook file: `Medical_Record_Blockchain.ipynb`.\n",
    "2. Run each cell sequentially from top to bottom.\n",
    "3. Observe the creation of a blockchain where each block represents a patient visit.\n",
    "4. You can modify or add new patient records using the `add_block()` function.\n",
    "\n",
    "## Potential Extensions\n",
    "- Encrypt sensitive patient data before storing in the blockchain.\n",
    "- Add user authentication and role-based access control.\n",
    "- Store medical imaging or test results as blockchain metadata.\n",
    "\n",
    "## Author\n",
    "Dipina KC\n",
    "\n",
    "## Acknowledgment\n",
    "This project is created as part of the CSCI 5858 course (Blockchain and Cryptocurrency Technologies) under the guidance of Dr. George Yu at [Your University Name].\n"
   ]
  }
 ],
 "metadata": {
  "kernelspec": {
   "display_name": "Python [conda env:ds]",
   "language": "python",
   "name": "conda-env-ds-py"
  },
  "language_info": {
   "name": ""
  }
 },
 "nbformat": 4,
 "nbformat_minor": 5
}
